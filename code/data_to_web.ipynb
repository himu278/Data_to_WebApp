{
 "cells": [
  {
   "cell_type": "markdown",
   "id": "73eeb2c6",
   "metadata": {},
   "source": [
    "# Import necessary libraries & Load the data"
   ]
  },
  {
   "cell_type": "code",
   "execution_count": 12,
   "id": "9e6c5d67",
   "metadata": {},
   "outputs": [],
   "source": [
    "import streamlit as st\n",
    "import pandas as pd\n",
    "import os\n",
    "\n",
    "# Load the data\n",
    "file_path = \"D:/Project/Data_to_WebApp/data/Job_Postings_by_Location_STEM_Occupations_SOC_2021_in_3194_Counties_8653.xls\"\n",
    "df = pd.read_excel(file_path, sheet_name=\"Job Postings by Location\", engine='xlrd')\n",
    "\n",
    "# Create the 'State Name' column by extracting state abbreviation\n",
    "df['State Name'] = df['County Name'].str.split(',').str[-1].str.strip()\n",
    "\n",
    "# Convert the 'State Name' column to uppercase\n",
    "df['State Name'] = df['State Name'].str.upper()\n",
    "\n",
    "#df.head()\n"
   ]
  },
  {
   "cell_type": "markdown",
   "id": "59e67743",
   "metadata": {},
   "source": [
    "# Set up Streamlit app"
   ]
  },
  {
   "cell_type": "code",
   "execution_count": null,
   "id": "ba67aae1",
   "metadata": {},
   "outputs": [],
   "source": [
    "# Set up Streamlit app\n",
    "st.set_page_config(layout=\"wide\")\n",
    "st.title(\"Job Postings Dashboard (STEM Occupations)\")\n",
    "\n",
    "# Sidebar Filters\n",
    "states = df['State Name'].unique()\n",
    "selected_state = st.sidebar.selectbox(\"Select a State\", sorted(states))\n",
    "\n",
    "# Filter by selected state\n",
    "filtered_df = df[df['State Name'] == selected_state]\n",
    "\n",
    "\n",
    "# # Display metrics\n",
    "# st.subheader(f\"Key Metrics for {selected_state}\")\n",
    "# st.metric(\"Median Salary\", f\"${filtered_df['Median Annual Advertised Salary'].values[0]:,.0f}\")\n",
    "# st.metric(\"Unique Postings\", f\"{filtered_df['Unique Postings from Jan 2023 - Dec 2023'].values[0]:,}\")\n",
    "# st.metric(\"Posting Duration\", f\"{filtered_df['Median Posting Duration from Jan 2023 - Dec 2023'].values[0]} days\")\n"
   ]
  },
  {
   "cell_type": "markdown",
   "id": "ec51d5e5",
   "metadata": {},
   "source": [
    "# Create an Interactive Chart using Altair"
   ]
  },
  {
   "cell_type": "code",
   "execution_count": null,
   "id": "6a950e1b",
   "metadata": {},
   "outputs": [],
   "source": [
    "import altair as alt\n",
    "\n",
    "#  Create an interactive bar chart using Altair\n",
    "chart = (\n",
    "    alt.Chart(filtered_df)\n",
    "    .mark_bar()\n",
    "    .encode(\n",
    "        x=alt.X(\n",
    "            'County Name:N',\n",
    "            sort='-y',\n",
    "            title='County Name'\n",
    "        ),\n",
    "        y=alt.Y(\n",
    "            'Unique Postings from Jan 2023 - Dec 2023:Q',\n",
    "            title='Unique Job Postings (2023)'\n",
    "        ),\n",
    "        color=alt.value('darkgreen')  # Solid dark green color for all bars\n",
    "    )\n",
    "    .properties(\n",
    "        title='County by Unique Job Postings (Jan–Dec 2023)'\n",
    "    )\n",
    "    .interactive()\n",
    ")\n",
    "\n",
    "#  Display the chart in your Streamlit app\n",
    "st.altair_chart(chart, use_container_width=True)\n",
    "\n"
   ]
  },
  {
   "cell_type": "markdown",
   "id": "10faa363",
   "metadata": {},
   "source": [
    "# ............................................................................................\n",
    "# Run these two lines in the Terminal\n",
    "# cd code  # Navigate into the 'code' folder\n",
    "# streamlit run data_to_web.py  # Run the Streamlit app"
   ]
  }
 ],
 "metadata": {
  "kernelspec": {
   "display_name": ".venv",
   "language": "python",
   "name": "python3"
  },
  "language_info": {
   "codemirror_mode": {
    "name": "ipython",
    "version": 3
   },
   "file_extension": ".py",
   "mimetype": "text/x-python",
   "name": "python",
   "nbconvert_exporter": "python",
   "pygments_lexer": "ipython3",
   "version": "3.13.2"
  }
 },
 "nbformat": 4,
 "nbformat_minor": 5
}
